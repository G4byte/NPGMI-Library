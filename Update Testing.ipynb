{
 "cells": [
  {
   "cell_type": "code",
   "execution_count": 824,
   "id": "95519abf-d59e-486a-a2d4-c44e5e1e70dd",
   "metadata": {},
   "outputs": [],
   "source": [
    "%run \"NPGMI Update.ipynb\"\n",
    "\n",
    "from time import time"
   ]
  },
  {
   "cell_type": "code",
   "execution_count": 825,
   "id": "b5feec56-bb49-4524-b8ed-d5c819bc97b4",
   "metadata": {
    "tags": []
   },
   "outputs": [],
   "source": [
    "POLY_DATA = np.genfromtxt(\"NPGMI-Library/Simulations and Plots/2PGMI PhysRevA/poly_contrast_data.csv\", delimiter = \",\").T\n",
    "POLY_DATA[0] *= 1e3\n",
    "MONO_DATA = np.genfromtxt(\"NPGMI-Library/Simulations and Plots/2PGMI PhysRevA/mono_contrast_data.csv\", delimiter = \",\").T\n"
   ]
  },
  {
   "cell_type": "code",
   "execution_count": 826,
   "id": "86733a9e-c8cf-4cf1-8e0c-a2a53a5aec0c",
   "metadata": {
    "tags": []
   },
   "outputs": [],
   "source": [
    "p = 2.4e-6\n",
    "L1mono = 1.2\n",
    "# L1bi = 1.73\n",
    "L1poly = 4.65\n",
    "\n",
    "# L0mono = -0.05\n",
    "L0mono = 0\n",
    "\n",
    "# L0bi = 0.01\n",
    "L0poly = 0.44\n",
    "# d0 = {\"mono\": -0.75e-3, \"bi\": +0.8e-3, \"poly\": -0.38e-3}\n",
    "d0 = {\"mono\": 0, \"bi\":0, \"poly\": 0}\n",
    "\n",
    "\n",
    "Lmono = 2.99 - L0mono\n",
    "# Lbi = 3.52 - L0bi\n",
    "Lpoly = 8.8 - L0poly\n",
    "\n",
    "\n",
    "polyspectrum = pd.read_excel(\"ng6_MCNP_spectrum.xlsx\").to_numpy().T\n",
    "polyspectrum[0]*=1e-9\n",
    "\n",
    "lammono = np.array([4.4e-10])\n",
    "plammono = np.array([1])\n",
    "\n",
    "# lambi = np.array([4.4e-10,2.2e-10])\n",
    "# plambi = np.array([3.2/4.2,1/4.2])\n",
    "\n",
    "lampoly, plampoly = polyspectrum.copy()\n",
    "\n",
    "\n",
    "mt = 5\n",
    "\n",
    "Nbc = 5e28*4.149e-15\n",
    "h = 0.27*np.pi / (Nbc*4.4e-10)\n",
    "hpoly = 0.2*np.pi / (Nbc*5e-10)\n",
    "\n",
    "phimono = Nbc*lammono*h\n",
    "\n",
    "# phibi = Nbc*lambi*h\n",
    "\n",
    "phipoly = Nbc*lampoly*hpoly\n",
    "\n",
    "\n",
    "camsize = 2.5e-2\n",
    "slitx = 230e-6\n",
    "# slitxrange = np.linspace(180,300,13)*1e-6\n",
    "slitxpoly = 590e-6\n",
    "\n",
    "\n",
    "slity = 100e-6\n",
    "xbin = 1e-6\n",
    "ybin = 1e-6\n",
    "resx = resy = 100e-6\n",
    "respoly = 150e-6\n",
    "\n",
    "\n",
    "G1sdmono = {\"p\":p, \"L1\": np.array([L1mono]), \"phi\":phimono, \"spectrum_spacing\":1, \"mt\":mt}\n",
    "G1sdmono[\"L2\"] = np.linspace(7,16,26)*1e-3 \n",
    "\n",
    "\n",
    "G2sdmono = {\"p\":p, \"L1\": G1sdmono[\"L1\"] +  G1sdmono[\"L2\"], \"phi\":phimono, \"spectrum_spacing\":1, \"mt\":mt}\n",
    "G2sdmono[\"L2\"] = Lmono - (G1sdmono[\"L1\"] + G1sdmono[\"L2\"])\n",
    "\n",
    "# G1sdbi = {\"p\":p, \"L1\": np.array([L1bi]), \"phi\":phibi}\n",
    "# G1sdbi[\"L2\"] = np.linspace(7,16,10)*1e-3 + d0[\"bi\"]\n",
    "\n",
    "\n",
    "# G2sdbi = {\"p\":p, \"L1\": G1sdbi[\"L1\"] +  G1sdbi[\"L2\"], \"phi\":phibi}\n",
    "# G2sdbi[\"L2\"] = Lbi - (G1sdbi[\"L1\"] + G1sdbi[\"L2\"])\n",
    "\n",
    "\n",
    "G1sdpoly = {\"p\":p, \"L1\": np.array([L1poly]), \"phi\":phipoly, \"spectrum_spacing\":1, \"mt\":mt}\n",
    "G1sdpoly[\"L2\"] = np.linspace(7,16,12)*1e-3 \n",
    "\n",
    "\n",
    "G2sdpoly = {\"p\":p, \"L1\": G1sdpoly[\"L1\"] +  G1sdpoly[\"L2\"], \"phi\":phipoly, \"spectrum_spacing\":1, \"mt\":mt}\n",
    "G2sdpoly[\"L2\"] = Lpoly - (G1sdpoly[\"L1\"] + G1sdpoly[\"L2\"])\n",
    "\n",
    "\n",
    "simaptsmono = {\"G1\":RectGrating(G1sdmono),\"G2\":RectGrating(G2sdmono)}\n",
    "siminitmono = {\"lam\":lammono, \"plam\": plammono, \"sum_lam\":False, \"L\":Lmono,\"d\":G1sdmono[\"L2\"],\"mt\":mt, \"xbin\":xbin,\"ybin\":ybin,\\\n",
    "           \"camsize\" : camsize ,\"convmode\" : \"valid\", \"slitx\": slitx, \"slity\" : slity, \"resx\": resx, \"resy\": resy}\n",
    "\n",
    "# simaptsbi = {\"G1\":RectGrating(G1sdbi),\"G2\":RectGrating(G2sdbi)}\n",
    "# siminitbi = {\"lam\":lambi, \"plam\": plambi, \"L\":Lbi,\"d\":G1sdbi[\"L2\"],\"mt\":mt, \"x\": np.linspace(0,camsize,int(camsize/xbin)),\"x0\" : x0,\"xbin\":xbin,\"ybin\":ybin,\\\n",
    "#            \"pos\":np.array([[0],[1]]) ,\"camsize\" : camsize ,\"convmode\" : \"valid\", \"slitx\": slitx, \"slity\" : slity, \"res\": res, \"batches\" : 1000}\n",
    "\n",
    "simaptspoly = {\"G1\":RectGrating(G1sdpoly),\"G2\":RectGrating(G2sdpoly)}\n",
    "siminitpoly = {\"lam\":lampoly, \"plam\": plampoly, \"sum_lam\":True, \"L\":Lpoly,\"d\":G1sdpoly[\"L2\"],\"mt\":mt, \"xbin\":xbin,\"ybin\":ybin,\\\n",
    "           \"camsize\" : camsize ,\"convmode\" : \"valid\", \"slitx\": slitxpoly, \"slity\" : slity, \"resx\": respoly, \"resy\": resy}"
   ]
  },
  {
   "cell_type": "code",
   "execution_count": 827,
   "id": "ded7ee02-0961-48cc-bf9d-0d0a69b9557d",
   "metadata": {
    "jupyter": {
     "source_hidden": true
    },
    "tags": []
   },
   "outputs": [
    {
     "name": "stdout",
     "output_type": "stream",
     "text": [
      "[  1   2   3   4   5   7   8   9  10  12  13  14  15  16  18  19  20  21\n",
      "  23  24  25  26  27  29  30  31  32  34  35  36  37  38  40  41  42  43\n",
      "  45  46  47  48  49  51  52  53  54  67  68  69  70  71  73  74  75  76\n",
      "  78  79  80  81  82  84  85  86  87  89  90  91  92  93  95  96  97  98\n",
      " 100 101 102 103 104 106 107 108 109 111 112 113 114 115 117 118 119 120\n",
      "   0  11  22  33  44  66  77  88  99 110]\n",
      "(12, 41, 121)\n",
      "(12, 41)\n",
      "[  0   1   2   3   4   5   6   7   8   9  10  11  12  13  14  15  16  17\n",
      "  18  19  20  21  22  23  24  25  26  27  28  29  30  31  32  33  34  35\n",
      "  36  37  38  39  40  41  42  43  44  45  46  47  48  49  50  51  52  53\n",
      "  54  55  56  57  58  59  60  61  62  63  64  65  66  67  68  69  70  71\n",
      "  72  73  74  75  76  77  78  79  80  81  82  83  84  85  86  87  88  89\n",
      "  90  91  92  93  94  95  96  97  98  99 100 101 102 103 104 105 106 107\n",
      " 108 109 110 111 112 113 114 115 116 117 118 119 120]\n",
      "(12, 41, 121)\n",
      "(12, 41)\n",
      "0.030009984970092773 seconds\n"
     ]
    }
   ],
   "source": [
    "t0 = time()\n",
    "\n",
    "simup = PGMI(simaptspoly, siminitpoly)\n",
    "\n",
    "simup.propagate_to(\"G1\")\n",
    "simup.propagate_to(\"G2\")\n",
    "simup.generate_after(\"G2\")\n",
    "\n",
    "\n",
    "\n",
    "print(time() - t0, \"seconds\")"
   ]
  },
  {
   "cell_type": "code",
   "execution_count": 783,
   "id": "51093432-8b4c-49c1-b7a4-07d5bc79491f",
   "metadata": {
    "jupyter": {
     "source_hidden": true
    },
    "tags": []
   },
   "outputs": [],
   "source": [
    "\n",
    "p = 2.4e-6\n",
    "L = 8.8\n",
    "\n",
    "lam = np.array([5e-10])\n",
    "plam = np.array([1])\n",
    "\n",
    "polyspectrum = pd.read_excel(\"ng6_MCNP_spectrum.xlsx\").to_numpy().T\n",
    "polyspectrum[0]*=1e-9\n",
    "\n",
    "lam,plam = polyspectrum.copy()\n",
    "\n",
    "x0 = np.array([0])\n",
    "\n",
    "\n",
    "mt = 5\n",
    "\n",
    "\n",
    "Nbc = 5e28*4.149e-15\n",
    "h1,h2,h3 = 15.8e-6,29e-6,15.8e-6\n",
    "# h1,h2,h3 = np.array([np.pi/2])/(Nbc*lam[np.argmax(plam)]),np.array([np.pi])/(Nbc*lam[np.argmax(plam)]),np.array([np.pi/2])/(Nbc*lam[np.argmax(plam)])\n",
    "\n",
    "phi1,phi2,phi3 = Nbc*lam*h1,Nbc*lam*h2,Nbc*lam*h3\n",
    "\n",
    "idealgrating_phase_offset = -413*np.pi/440\n",
    "\n",
    "\n",
    "camsize = 2.5e-2\n",
    "slitx = 500e-6\n",
    "slity = 100e-6\n",
    "\n",
    "xbin = 1e-6\n",
    "ybin = 5e-6\n",
    "\n",
    "res = 150e-6\n",
    "d1 = np.array([4.6e-2])\n",
    "slittoG2 = 4.75\n",
    "d3pgmi = np.linspace(2,7,100)*1e-2\n",
    "\n",
    "\n",
    "G1sd = {\"p\":p, \"L1\": np.array([slittoG2 - d1]), \"phi\":phi1, \"phase_offset\": idealgrating_phase_offset, \"mt\":mt, \"spectrum_spacing\":1}\n",
    "G1sd[\"L2\"] = d1\n",
    "\n",
    "G2sd = {\"p\":p, \"L1\": G1sd[\"L2\"] + G1sd[\"L1\"], \"phi\":phi2, \"phase_offset\": idealgrating_phase_offset, \"mt\":mt, \"spectrum_spacing\":1}\n",
    "\n",
    "\n",
    "\n",
    "G2sd[\"L2\"] = d3pgmi \n",
    "\n",
    "\n",
    "G3sd = {\"p\":p, \"L1\": G2sd[\"L2\"] + G2sd[\"L1\"], \"phi\":phi3, \"phase_offset\": idealgrating_phase_offset, \"mt\":mt, \"spectrum_spacing\":1}\n",
    "G3sd[\"L2\"] = np.array([L]) - G3sd[\"L1\"]\n",
    "\n",
    "simaptsideal = {\"G1\":RectGrating(G1sd),\"G2\":RectGrating(G2sd),\"G3\":RectGrating(G3sd)}\n",
    "\n",
    "# simaptsideal = {\"G1\":RectGrating(G1sd),\"G2\":Sample(G2sd,10*p,grating_equation(np.linspace(0,10*p,1001),p,0)),\"G3\":RectGrating(G3sd)}\n",
    "\n",
    "\n",
    "# simaptsrect = {\"G1\":GratingFromImage(G1sd, rsize, rprofile),\\\n",
    "#                       \"G2\":GratingFromImage(G2sd,rsize,rprofile),\\\n",
    "#            \"G3\":GratingFromImage(G3sd,rsize, rprofile)}\n",
    "\n",
    "\n",
    "\n",
    "# simaptsbb = {\"G1\":GratingFromImage(G1sd, rsize, rprofile),\\\n",
    "#                       \"G2\":Sample(G2sd,bbsize,np.array(rotbbprofiles)),\\\n",
    "#            \"G3\":GratingFromImage(G3sd,rsize, rprofile)}\n",
    "\n",
    "\n",
    "\n",
    "\n",
    "\n",
    "\n",
    "\n",
    "siminit = {\"lam\":lam, \"plam\":plam, \"sum_lam\":True, \"L\":L,\"d\":d3pgmi-d1,\"mt\":mt, \"x0\" : x0,\"xbin\":xbin,\"ybin\":ybin,\\\n",
    "           \"slitx\": slitx,\"slity\" : slity, \"resx\": res, \"resy\":res  }"
   ]
  },
  {
   "cell_type": "code",
   "execution_count": 784,
   "id": "f4d3d964-17b9-4241-8aef-a64f274327fe",
   "metadata": {
    "collapsed": true,
    "jupyter": {
     "outputs_hidden": true,
     "source_hidden": true
    },
    "tags": []
   },
   "outputs": [
    {
     "ename": "ValueError",
     "evalue": "all the input arrays must have same number of dimensions, but the array at index 0 has 1 dimension(s) and the array at index 1 has 2 dimension(s)",
     "output_type": "error",
     "traceback": [
      "\u001b[1;31m---------------------------------------------------------------------------\u001b[0m",
      "\u001b[1;31mValueError\u001b[0m                                Traceback (most recent call last)",
      "Cell \u001b[1;32mIn[784], line 10\u001b[0m\n\u001b[0;32m      6\u001b[0m simup\u001b[38;5;241m.\u001b[39mpropagate_to(\u001b[38;5;124m\"\u001b[39m\u001b[38;5;124mG2\u001b[39m\u001b[38;5;124m\"\u001b[39m)\n\u001b[0;32m      8\u001b[0m simup\u001b[38;5;241m.\u001b[39mpropagate_to(\u001b[38;5;124m\"\u001b[39m\u001b[38;5;124mG3\u001b[39m\u001b[38;5;124m\"\u001b[39m)\n\u001b[1;32m---> 10\u001b[0m \u001b[43msimup\u001b[49m\u001b[38;5;241;43m.\u001b[39;49m\u001b[43mgenerate_after\u001b[49m\u001b[43m(\u001b[49m\u001b[38;5;124;43m\"\u001b[39;49m\u001b[38;5;124;43mG3\u001b[39;49m\u001b[38;5;124;43m\"\u001b[39;49m\u001b[43m)\u001b[49m\n\u001b[0;32m     12\u001b[0m \u001b[38;5;28mprint\u001b[39m(time() \u001b[38;5;241m-\u001b[39m t0, \u001b[38;5;124m\"\u001b[39m\u001b[38;5;124mseconds\u001b[39m\u001b[38;5;124m\"\u001b[39m)\n",
      "File \u001b[1;32m~\\AppData\\Local\\Temp\\ipykernel_10412\\1540507075.py:491\u001b[0m, in \u001b[0;36mPGMI.generate_after\u001b[1;34m(self, key)\u001b[0m\n\u001b[0;32m    488\u001b[0m     k \u001b[38;5;241m=\u001b[39m np\u001b[38;5;241m.\u001b[39mmoveaxis(k,get_param_axis(k,\u001b[38;5;28mself\u001b[39m\u001b[38;5;241m.\u001b[39mplam),\u001b[38;5;241m0\u001b[39m)[\u001b[38;5;241m0\u001b[39m]\n\u001b[0;32m    489\u001b[0m     \u001b[38;5;66;03m# moire frequency is independent of wavelength, makes indexing much simpler\u001b[39;00m\n\u001b[1;32m--> 491\u001b[0m a_moire, k_moire \u001b[38;5;241m=\u001b[39m \u001b[43mget_a_k_final\u001b[49m\u001b[43m(\u001b[49m\u001b[43ma\u001b[49m\u001b[43m,\u001b[49m\u001b[43mk\u001b[49m\u001b[43m,\u001b[49m\u001b[43mk_moire_vals\u001b[49m\u001b[43m[\u001b[49m\u001b[38;5;241;43m0\u001b[39;49m\u001b[43m]\u001b[49m\u001b[43m)\u001b[49m\n\u001b[0;32m    492\u001b[0m \u001b[38;5;66;03m# indices are the same for all d, so just pick the first one for speed\u001b[39;00m\n\u001b[0;32m    494\u001b[0m a_zero, k_zero \u001b[38;5;241m=\u001b[39m get_a_k_final(a,k,\u001b[38;5;241m0\u001b[39m)\n",
      "File \u001b[1;32m~\\AppData\\Local\\Temp\\ipykernel_10412\\1540507075.py:149\u001b[0m, in \u001b[0;36mget_a_k_final\u001b[1;34m(a, k, target)\u001b[0m\n\u001b[0;32m    146\u001b[0m     indices \u001b[38;5;241m=\u001b[39m conj_indices \u001b[38;5;241m=\u001b[39m np\u001b[38;5;241m.\u001b[39marange(k\u001b[38;5;241m.\u001b[39mshape[\u001b[38;5;241m-\u001b[39m\u001b[38;5;241m1\u001b[39m])\n\u001b[0;32m    147\u001b[0m     \u001b[38;5;66;03m# obviously, if you take k[i] + -k[i] you get 0\u001b[39;00m\n\u001b[0;32m    148\u001b[0m \u001b[38;5;28;01melse\u001b[39;00m:\n\u001b[1;32m--> 149\u001b[0m     indices, conj_indices \u001b[38;5;241m=\u001b[39m \u001b[43mget_complement_inds\u001b[49m\u001b[43m(\u001b[49m\u001b[43mk\u001b[49m\u001b[43m,\u001b[49m\u001b[43mk_conj\u001b[49m\u001b[43m,\u001b[49m\u001b[43mtarget\u001b[49m\u001b[43m)\u001b[49m \n\u001b[0;32m    151\u001b[0m a \u001b[38;5;241m=\u001b[39m np\u001b[38;5;241m.\u001b[39msum(retain_shape_after_index(a,indices) \u001b[38;5;241m*\u001b[39m retain_shape_after_index(a_conj,conj_indices), axis \u001b[38;5;241m=\u001b[39m \u001b[38;5;241m-\u001b[39m\u001b[38;5;241m1\u001b[39m)\n\u001b[0;32m    153\u001b[0m k \u001b[38;5;241m=\u001b[39m (retain_shape_after_index(k,indices) \u001b[38;5;241m+\u001b[39m retain_shape_after_index(k_conj,conj_indices))[\u001b[38;5;241m.\u001b[39m\u001b[38;5;241m.\u001b[39m\u001b[38;5;241m.\u001b[39m,\u001b[38;5;241m0\u001b[39m]\n",
      "File \u001b[1;32m~\\AppData\\Local\\Temp\\ipykernel_10412\\1540507075.py:135\u001b[0m, in \u001b[0;36mget_complement_inds\u001b[1;34m(arr, arr_complement, target)\u001b[0m\n\u001b[0;32m    133\u001b[0m     \u001b[38;5;28;01mif\u001b[39;00m np\u001b[38;5;241m.\u001b[39many(bool_where_target):\n\u001b[0;32m    134\u001b[0m         nonzero \u001b[38;5;241m=\u001b[39m np\u001b[38;5;241m.\u001b[39msqueeze(np\u001b[38;5;241m.\u001b[39mnonzero(bool_where_target))\n\u001b[1;32m--> 135\u001b[0m         arr_inds \u001b[38;5;241m=\u001b[39m \u001b[43mnp\u001b[49m\u001b[38;5;241;43m.\u001b[39;49m\u001b[43mconcatenate\u001b[49m\u001b[43m(\u001b[49m\u001b[43m(\u001b[49m\u001b[43marr_inds\u001b[49m\u001b[43m,\u001b[49m\u001b[43mnonzero\u001b[49m\u001b[43m)\u001b[49m\u001b[43m)\u001b[49m\n\u001b[0;32m    136\u001b[0m         arr_complement_inds \u001b[38;5;241m=\u001b[39m np\u001b[38;5;241m.\u001b[39mconcatenate((arr_complement_inds,nonzero \u001b[38;5;241m+\u001b[39m i)) \u001b[38;5;241m%\u001b[39m arr\u001b[38;5;241m.\u001b[39mshape[\u001b[38;5;241m-\u001b[39m\u001b[38;5;241m1\u001b[39m]\n\u001b[0;32m    139\u001b[0m \u001b[38;5;28;01mreturn\u001b[39;00m [np\u001b[38;5;241m.\u001b[39msqueeze(arr_inds)\u001b[38;5;241m.\u001b[39mastype(\u001b[38;5;28mint\u001b[39m),np\u001b[38;5;241m.\u001b[39msqueeze(arr_complement_inds)\u001b[38;5;241m.\u001b[39mastype(\u001b[38;5;28mint\u001b[39m)]\n",
      "File \u001b[1;32m<__array_function__ internals>:180\u001b[0m, in \u001b[0;36mconcatenate\u001b[1;34m(*args, **kwargs)\u001b[0m\n",
      "\u001b[1;31mValueError\u001b[0m: all the input arrays must have same number of dimensions, but the array at index 0 has 1 dimension(s) and the array at index 1 has 2 dimension(s)"
     ]
    }
   ],
   "source": [
    "t0 = time()\n",
    "\n",
    "\n",
    "simup = PGMI(simaptsideal, siminit)\n",
    "simup.propagate_to(\"G1\")\n",
    "simup.propagate_to(\"G2\")\n",
    "\n",
    "simup.propagate_to(\"G3\")\n",
    "\n",
    "simup.generate_after(\"G3\")\n",
    "\n",
    "print(time() - t0, \"seconds\")"
   ]
  },
  {
   "cell_type": "code",
   "execution_count": null,
   "id": "6811c5b9-d6ef-4435-a153-4f31b924e9d0",
   "metadata": {},
   "outputs": [],
   "source": [
    "print([8]*2)"
   ]
  },
  {
   "cell_type": "code",
   "execution_count": 828,
   "id": "268b3fa2-feb3-44a8-8ab5-1e0a2f702595",
   "metadata": {
    "tags": []
   },
   "outputs": [
    {
     "data": {
      "image/png": "[encoded data removed]",
      "text/plain": [
       "<Figure size 1200x800 with 1 Axes>"
      ]
     },
     "metadata": {},
     "output_type": "display_data"
    }
   ],
   "source": [
    "fig, ax1 = plt.subplots(figsize = (12,8))\n",
    "\n",
    "ax1.plot(simup.d*1e3, simup.contrast)\n",
    "\n",
    "plt.show()\n",
    "plt.close(fig)\n"
   ]
  },
  {
   "cell_type": "code",
   "execution_count": 825,
   "id": "202a9c09",
   "metadata": {
    "tags": []
   },
   "outputs": [],
   "source": [
    "POLY_DATA = np.genfromtxt(\"NPGMI-Library/Simulations and Plots/2PGMI PhysRevA/poly_contrast_data.csv\", delimiter = \",\").T\n",
    "POLY_DATA[0] *= 1e3\n",
    "MONO_DATA = np.genfromtxt(\"NPGMI-Library/Simulations and Plots/2PGMI PhysRevA/mono_contrast_data.csv\", delimiter = \",\").T\n"
   ]
  },
  {
   "cell_type": "code",
   "execution_count": null,
   "id": "ddf033f4-e0e1-47d8-829d-977f1fb5a2b9",
   "metadata": {},
   "outputs": [],
   "source": []
  }
 ],
 "metadata": {
  "kernelspec": {
   "display_name": "Python 3 (ipykernel)",
   "language": "python",
   "name": "python3"
  },
  "language_info": {
   "codemirror_mode": {
    "name": "ipython",
    "version": 3
   },
   "file_extension": ".py",
   "mimetype": "text/x-python",
   "name": "python",
   "nbconvert_exporter": "python",
   "pygments_lexer": "ipython3",
   "version": "3.10.9"
  }
 },
 "nbformat": 4,
 "nbformat_minor": 5
}
