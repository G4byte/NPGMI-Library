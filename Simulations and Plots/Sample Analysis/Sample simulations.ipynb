{
 "cells": [
  {
   "cell_type": "code",
   "execution_count": null,
   "id": "c70c9f63-58a6-4e09-8111-ef237bfa3612",
   "metadata": {},
   "outputs": [],
   "source": [
    "import numpy as np\n",
    "from numpy import sin, cos,exp,pi\n",
    "from time import process_time, time\n",
    "from scipy.optimize import curve_fit, least_squares\n",
    "from scipy.fft import fft,fftshift,fft2, fftfreq, ifft\n",
    "from scipy.signal import oaconvolve, medfilt2d\n",
    "\n",
    "from scipy.ndimage import rotate\n",
    "from scipy.interpolate import interp1d\n",
    "\n",
    "import h5py\n",
    "from skimage.transform import radon\n",
    "from sklearn.metrics import r2_score\n",
    "import matplotlib.pyplot as plt\n",
    "from matplotlib.patches import Rectangle\n",
    "from matplotlib import transforms\n",
    "from PIL import Image, ImageFilter\n",
    "import joblib as jb\n",
    "import tifffile as tfl\n",
    "import os\n",
    "from IPython.display import clear_output\n",
    "import re\n",
    "import pandas as pd"
   ]
  },
  {
   "cell_type": "code",
   "execution_count": null,
   "id": "9bcd59f7-efff-4c48-9fd0-86e43f4adbd6",
   "metadata": {},
   "outputs": [],
   "source": [
    "%run \"C:\\Users\\gabri\\Documents\\Python Scripts\\NPGMI-Library\\NPGMI Base Code.ipynb\""
   ]
  },
  {
   "cell_type": "markdown",
   "id": "1c413e8f-5cc9-459e-bd73-40690b25642b",
   "metadata": {},
   "source": [
    "### Sample Density Plots"
   ]
  },
  {
   "cell_type": "markdown",
   "id": "b02a1183-0538-4f07-a0cb-d4e86dd19c92",
   "metadata": {},
   "source": [
    "Add here from Mac version of NPGMI Simulations"
   ]
  }
 ],
 "metadata": {
  "kernelspec": {
   "display_name": "Python 3 (ipykernel)",
   "language": "python",
   "name": "python3"
  },
  "language_info": {
   "codemirror_mode": {
    "name": "ipython",
    "version": 3
   },
   "file_extension": ".py",
   "mimetype": "text/x-python",
   "name": "python",
   "nbconvert_exporter": "python",
   "pygments_lexer": "ipython3",
   "version": "3.10.9"
  }
 },
 "nbformat": 4,
 "nbformat_minor": 5
}
