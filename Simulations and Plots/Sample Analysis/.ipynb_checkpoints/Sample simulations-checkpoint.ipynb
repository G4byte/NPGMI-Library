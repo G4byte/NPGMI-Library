{
 "cells": [
  {
   "cell_type": "code",
   "execution_count": null,
   "id": "c70c9f63-58a6-4e09-8111-ef237bfa3612",
   "metadata": {},
   "outputs": [],
   "source": [
    "import numpy as np\n",
    "from numpy import sin, cos,exp,pi\n",
    "from time import process_time, time\n",
    "from scipy.optimize import curve_fit, least_squares\n",
    "from scipy.fft import fft,fftshift,fft2, fftfreq, ifft\n",
    "from scipy.signal import oaconvolve, medfilt2d\n",
    "\n",
    "from scipy.ndimage import rotate\n",
    "from scipy.interpolate import interp1d\n",
    "\n",
    "import h5py\n",
    "from skimage.transform import radon\n",
    "from sklearn.metrics import r2_score\n",
    "import matplotlib.pyplot as plt\n",
    "from matplotlib.patches import Rectangle\n",
    "from matplotlib import transforms\n",
    "from PIL import Image, ImageFilter\n",
    "import joblib as jb\n",
    "import tifffile as tfl\n",
    "import os\n",
    "from IPython.display import clear_output\n",
    "import re\n",
    "import pandas as pd"
   ]
  },
  {
   "cell_type": "code",
   "execution_count": null,
   "id": "9bcd59f7-efff-4c48-9fd0-86e43f4adbd6",
   "metadata": {},
   "outputs": [],
   "source": [
    "%run \"C:\\Users\\gabri\\Documents\\Python Scripts\\NPGMI-Library\\NPGMI Base Code.ipynb\""
   ]
  },
  {
   "cell_type": "markdown",
   "id": "1c413e8f-5cc9-459e-bd73-40690b25642b",
   "metadata": {},
   "source": [
    "### Sample Density Plots"
   ]
  },
  {
   "cell_type": "code",
   "execution_count": null,
   "id": "f065b32e-ebf2-4e86-8130-526c98c15e56",
   "metadata": {},
   "outputs": [],
   "source": [
    "\n",
    "p = 2e-6\n",
    "L = 8\n",
    "# Ls = 3\n",
    "\n",
    "lam = np.array([5e-10])\n",
    "plam = np.array([1])\n",
    "\n",
    "x0 = np.array([0])\n",
    "\n",
    "mt = 5\n",
    "\n",
    "Nbc = 5e28*4.149e-15\n",
    "\n",
    "phi1,phi2,phi3 = np.pi/2, np.pi/2, np.pi/6\n",
    "\n",
    "camsize = 2.5e-2\n",
    "slitx = 200e-6\n",
    "\n",
    "xbin = 1e-6\n",
    "ybin = 1e-6\n",
    "\n",
    "res = 100e-6\n",
    "L1 = 4\n",
    "# dconst = 5e-2\n",
    "\n",
    "dsample = np.linspace(0.25,4.25,81) * p**2/lam\n",
    "\n",
    "ps_vals = np.linspace(1,6,51)*1e-6\n",
    "\n",
    "phi3_vals = np.pi / np.array([32,16,8,6,4,2])\n",
    "\n",
    "Ls_vals = np.linspace(1,3,3)\n",
    "\n"
   ]
  }
 ],
 "metadata": {
  "kernelspec": {
   "display_name": "Python 3 (ipykernel)",
   "language": "python",
   "name": "python3"
  },
  "language_info": {
   "codemirror_mode": {
    "name": "ipython",
    "version": 3
   },
   "file_extension": ".py",
   "mimetype": "text/x-python",
   "name": "python",
   "nbconvert_exporter": "python",
   "pygments_lexer": "ipython3",
   "version": "3.10.9"
  }
 },
 "nbformat": 4,
 "nbformat_minor": 5
}
