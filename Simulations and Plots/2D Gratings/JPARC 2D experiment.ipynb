{
 "cells": [
  {
   "cell_type": "code",
   "execution_count": null,
   "id": "0b10ba2c-738d-41ae-8d7c-040b92be8a67",
   "metadata": {},
   "outputs": [],
   "source": [
    "import numpy as np\n",
    "from numpy import sin, cos,exp,pi\n",
    "from time import process_time, time\n",
    "from scipy.optimize import curve_fit, least_squares\n",
    "from scipy.fft import fft,fftshift,fft2, fftfreq, ifft\n",
    "from scipy.signal import oaconvolve, medfilt2d\n",
    "\n",
    "from scipy.ndimage import rotate\n",
    "from scipy.interpolate import interp1d\n",
    "\n",
    "# import h5py\n",
    "from skimage.transform import radon\n",
    "from sklearn.metrics import r2_score\n",
    "import matplotlib.pyplot as plt\n",
    "from matplotlib.patches import Rectangle\n",
    "from matplotlib import transforms\n",
    "from PIL import Image, ImageFilter\n",
    "import joblib as jb\n",
    "import tifffile as tfl\n",
    "import os\n",
    "from IPython.display import clear_output\n",
    "import re\n",
    "import pandas as pd\n",
    "\n",
    "from astropy.io import fits"
   ]
  },
  {
   "cell_type": "code",
   "execution_count": null,
   "id": "7c416ac5-600e-4660-ba98-c84e23bc21a8",
   "metadata": {},
   "outputs": [],
   "source": [
    "%run \"C:\\Users\\gabri\\Documents\\Python Scripts\\NPGMI-Library\\NPGMI Base Code.ipynb\""
   ]
  },
  {
   "cell_type": "markdown",
   "id": "e1788bfd-3e59-4263-bff0-811f0096c8f5",
   "metadata": {},
   "source": [
    "### 2D Grating Data Analysis"
   ]
  },
  {
   "cell_type": "code",
   "execution_count": null,
   "id": "cd0ff186-52b6-4a20-ad8f-405a43603fc1",
   "metadata": {},
   "outputs": [],
   "source": [
    "t0 = time()\n",
    "\n",
    "exp2path = r\"C:\\Users\\gabri\\Documents\\Python Scripts\\JPARC experiment\\exp2\"\n",
    "\n",
    "\n",
    "\n",
    "\n",
    "exp2polyfiltered = np.array([[process_tfl(img, -7.8, 5)[20:image_side - 100, 20:image_side - 100] for img in np.array(tfl.imread(exp2path  + \"\\\\\" + path))]\\\n",
    "                         for i, path in enumerate(os.listdir(exp2path)[-2:-1])]).squeeze()\n",
    "\n",
    "print(time() - t0, \"seconds\")"
   ]
  },
  {
   "cell_type": "code",
   "execution_count": null,
   "id": "394e78d0-84a6-4447-99dc-69dc92fed846",
   "metadata": {},
   "outputs": [],
   "source": [
    "poly2ddataIx = np.sum(exp2filtered, axis = -2)\n",
    "poly2ddataIy = np.sum(exp2filtered, axis = -1)\n",
    "poly2dx = np.arange(poly2ddataIx.shape[-1])*cm_per_pixel*1e-2\n",
    "poly2dy = np.arange(poly2ddataIy.shape[-1])*cm_per_pixel*1e-2\n",
    "\n",
    "# pxdata, pydata = 2.97e-6, 2.9e-6\n",
    "pxdata, pydata = 3e-6, 3e-6\n",
    "\n",
    "Ldata = 8.2955 \n",
    "# Ldata = 8.352789\n",
    "d02d = 0\n",
    "d2data = np.linspace(4.5,18.5,8)*1e-3 - d02d\n",
    "\n"
   ]
  },
  {
   "cell_type": "code",
   "execution_count": null,
   "id": "db41caf3-f177-4589-96fd-aa0c1211be3c",
   "metadata": {},
   "outputs": [],
   "source": [
    "# exp2monofiltered = np.array([process_tfl(img,14,5) for img in tfl.imread(exp2path  + \"\\\\\" + \"NID019772_20230217.tiff\")])\n",
    "\n",
    "\n",
    "exp2mono = np.array([process_tfl(img[...,275:875,200:850],14,5,filter_flag=False) for img in tfl.imread(exp2path  + \"\\\\\" + \"NID019772_20230217.tiff\")])"
   ]
  },
  {
   "cell_type": "code",
   "execution_count": null,
   "id": "9ea7ac49-e850-4e12-a739-98ca669273d1",
   "metadata": {},
   "outputs": [],
   "source": [
    "mono2ddataIx = np.sum(exp2mono, axis = -2)\n",
    "mono2ddataIy = np.sum(exp2mono, axis = -1)\n",
    "mono2dx = np.arange(mono2ddataIx.shape[-1])*cm_per_pixel\n",
    "mono2dy = np.arange(mono2ddataIy.shape[-1])*cm_per_pixel\n"
   ]
  },
  {
   "cell_type": "code",
   "execution_count": null,
   "id": "7ac54a49-aa47-40b4-9f58-45dfa1c17a6a",
   "metadata": {},
   "outputs": [],
   "source": [
    "poly2ddataIxfitparams = np.array([best_fit_moire_period(cosine_func, poly2dx, poly2ddataIx[i], pxdata, Ldata, d2data[i]) for i in range(len(d2data))])\n",
    "poly2ddataIyfitparams = np.array([best_fit_moire_period(cosine_func, poly2dy, poly2ddataIy[i], pydata, Ldata, d2data[i]) for i in range(len(d2data))])\n",
    "\n",
    "# poly2ddataIxfitparams = np.array([curve_fit(cosine_func,poly2dx, poly2ddataIx[i],\\\n",
    "#                         p0 = [np.mean(poly2ddataIx[i]), np.max(poly2ddataIx[i]) - np.mean(poly2ddataIx[i]),Ldata*pxdata/d2data[i],0],\\\n",
    "#                         maxfev = int(3e4))[0] for i in range(len(d2data))])\n",
    "# poly2ddataIyfitparams = np.array([curve_fit(cosine_func,poly2dy, poly2ddataIy[i],\\\n",
    "#                         p0 = [np.mean(poly2ddataIy[i]), np.max(poly2ddataIy[i]) - np.mean(poly2ddataIy[i]),Ldata*pydata/d2data[i],0],\\\n",
    "#                         maxfev = int(3e4))[0] for i in range(len(d2data))])\n",
    "\n",
    "\n",
    "\n",
    "# mono2ddataIxfitparams = np.array([best_fit_moire_period(cosine_func, mono2dx, mono2ddataIx[i], pxdata, Ldata, d2data[i]) for i in range(len(d2data))])\n",
    "# mono2ddataIyfitparams = np.array([best_fit_moire_period(cosine_func, mono2dy, mono2ddataIy[i], pydata, Ldata, d2data[i]) for i in range(len(d2data))])\n",
    "# incorrect currently"
   ]
  },
  {
   "cell_type": "code",
   "execution_count": null,
   "id": "9cfaae2d-9c56-43e6-a8c8-621ff60da1e7",
   "metadata": {},
   "outputs": [],
   "source": [
    "fig, ax = plt.subplots(figsize = (12,12))\n",
    "ax.imshow(exp2polyfiltered[5])\n",
    "ax.axvline(860)\n",
    "fig.savefig(\"exp2polyfiltered.jpg\")\n",
    "plt.show()\n",
    "plt.close(fig)"
   ]
  },
  {
   "cell_type": "code",
   "execution_count": null,
   "id": "1c8ec8ea-7828-4498-8f34-5cd870d514aa",
   "metadata": {},
   "outputs": [],
   "source": [
    "\n",
    "exp2polycontx = np.abs(poly2ddataIxfitparams[...,1]/poly2ddataIxfitparams[...,0])\n",
    "exp2polyconty = np.abs(poly2ddataIyfitparams[...,1]/poly2ddataIyfitparams[...,0])\n",
    "\n",
    "exp2polyfreqx = 1/poly2ddataIxfitparams[...,2]\n",
    "exp2polyfreqy = 1/poly2ddataIyfitparams[...,2]"
   ]
  },
  {
   "cell_type": "code",
   "execution_count": null,
   "id": "9584c30c-4aa4-4642-a689-fc7a1a4f6695",
   "metadata": {},
   "outputs": [],
   "source": [
    "fig, ax1 = plt.subplots(figsize = (12,8))\n",
    "\n",
    "ind = 2\n",
    "# ax1.plot(poly2dy,poly2ddataIy[ind], label = \"Data Along y\")\n",
    "ax1.plot(poly2dx,poly2ddataIx[ind], label = \"Data Along x\")\n",
    "\n",
    "ax1.set_prop_cycle(None)\n",
    "\n",
    "# ax1.plot(poly2dy,cosine_func(poly2dy,*poly2ddataIyfitparams[ind]), \"--\",label = \"Fit Along y\")\n",
    "ax1.plot(poly2dx,cosine_func(poly2dx,*poly2ddataIxfitparams[ind]), \"--\",label = \"Fit Along x\")\n",
    "\n",
    "\n",
    "ax1.set_xlabel(\"Camera x-axis (cm)\")\n",
    "ax1.legend()\n",
    "\n",
    "# fig.savefig(\"exp2polyIydatawithfit.jpg\")\n",
    "\n",
    "plt.show()\n",
    "plt.close(fig)"
   ]
  },
  {
   "cell_type": "code",
   "execution_count": null,
   "id": "2d1795ed-2604-42d6-a609-09c8cd30176c",
   "metadata": {},
   "outputs": [],
   "source": [
    "fig, ax1 = plt.subplots(figsize = (12,12))\n",
    "\n",
    "# ax1.imshow(exp2mono[36])\n",
    "\n",
    "ax1.plot(mono2dy,mono2ddataIy[36], label = \"Along y\")\n",
    "ax1.plot(mono2dx,mono2ddataIx[36], label = \"Along x\")\n",
    "\n",
    "ax1.set_prop_cycle(None)\n",
    "\n",
    "ax1.plot(mono2dy,cosine_func(mono2dy,*mono2ddataIyfitparams[36]), \"--\",label = \"Fit Along y\")\n",
    "ax1.plot(mono2dx,cosine_func(mono2dx,*mono2ddataIxfitparams[36]), \"--\",label = \"Fit Along x\")\n",
    "\n",
    "\n",
    "ax1.legend()\n",
    "# fig.savefig(\"exp2monoIydata.jpg\")\n",
    "plt.show()\n",
    "plt.close(fig)"
   ]
  },
  {
   "cell_type": "code",
   "execution_count": null,
   "id": "b668f67e-8f67-4f2e-a46c-639f636b5711",
   "metadata": {},
   "outputs": [],
   "source": [
    "fig, ax1 = plt.subplots(figsize = (12,8))\n",
    "ax1.plot(d2data*1e3, exp2polycontx*1e2, \"x\", label = \"Along x\")\n",
    "ax1.plot(d2data*1e3, exp2polyconty*1e2, \"x\", label = \"Along y\")\n",
    "\n",
    "ax1.set_xlabel(\"d (mm)\")\n",
    "ax1.set_ylabel(\"Contrast (%)\")\n",
    "ax1.set_title(\"2D Gratings Contrast vs. d\")\n",
    "ax1.legend()\n",
    "# fig.savefig(\"exp2contvd.jpg\")\n",
    "plt.show()\n",
    "plt.close(fig)"
   ]
  },
  {
   "cell_type": "code",
   "execution_count": null,
   "id": "c4c60f43-943d-410a-b804-cec02a3cf56f",
   "metadata": {},
   "outputs": [],
   "source": [
    "fig, ax1 = plt.subplots(figsize = (12,8))\n",
    "ax1.plot(d2data*1e3, exp2polyfreqx/1e3, \"x\", label = \"Along x\")\n",
    "ax1.plot(d2data*1e3, exp2polyfreqy/1e3, \"x\", label = \"Along y\")\n",
    "\n",
    "ax1.set_xlabel(\"d (mm)\")\n",
    "ax1.set_ylabel(r\"Frequency $(mm^{-1})$\")\n",
    "ax1.set_title(\"2D Gratings Frequency vs. d\")\n",
    "ax1.legend()\n",
    "# fig.savefig(\"exp2freqvd.jpg\")\n",
    "plt.show()\n",
    "plt.close(fig)"
   ]
  },
  {
   "cell_type": "markdown",
   "id": "f651a2a4-8345-4b07-b226-d7a66be2ea02",
   "metadata": {},
   "source": [
    "### Simulations"
   ]
  },
  {
   "cell_type": "code",
   "execution_count": null,
   "id": "f0f81fa8-7fca-497b-a401-cf5295d1d6d6",
   "metadata": {},
   "outputs": [],
   "source": [
    "px, py = 3e-6, 3e-6\n",
    "\n",
    "Nbc = 5e28*4.149e-15\n",
    "mt = 5\n",
    "x0 = 0\n",
    "\n",
    "\n",
    "L1 = 4.156\n",
    "\n",
    "\n",
    "L = 8.2955\n",
    "\n",
    "\n",
    "# polyspectrum = pd.read_excel(\"ng6_MCNP_spectrum.xlsx\").to_numpy().T\n",
    "# polyspectrum[0]*=1e-9\n",
    "\n",
    "lam = np.array([2.5e-10])\n",
    "plam = np.array([1])\n",
    "\n",
    "\n",
    "# lampoly, plampoly = polyspectrum.copy()\n",
    "\n",
    "\n",
    "h = np.pi/2 / (Nbc*lam[np.argmax(plam)])\n",
    "\n",
    "# hpoly = 0.2*pi / (Nbc*5e-10)\n",
    "\n",
    "phi = Nbc*lam*h\n",
    "\n",
    "# phipoly = Nbc*lampoly*hpoly\n",
    "\n",
    "\n",
    "camsize = 1e-2\n",
    "slitx = 500e-6\n",
    "slity = 500e-6\n",
    "xbin = 5e-6\n",
    "ybin = 5e-6\n",
    "res = 100e-6\n",
    "\n",
    "# respoly = 150e-6\n",
    "\n",
    "# Ioff = np.linspace(-5000,5000,10)\n",
    "\n",
    "\n",
    "\n",
    "G1sd = {\"px\":px, \"py\":py,\"L1\": np.array([L1]), \"phi\":phi}\n",
    "G1sd[\"L2\"] = np.linspace(6,25,20)*1e-3 \n",
    "\n",
    "\n",
    "G2sd = {\"px\":px, \"py\":py, \"L1\": G1sd[\"L1\"] +  G1sd[\"L2\"], \"phi\":phi}\n",
    "G2sd[\"L2\"] = L - (G1sd[\"L1\"] + G1sd[\"L2\"])\n",
    "\n",
    "\n",
    "\n",
    "\n",
    "# G1sdpoly = {\"p\":p, \"L1\": np.array([L1poly]), \"phi\":phipoly}\n",
    "# G1sdpoly[\"L2\"] = np.linspace(7,16,10)*1e-3 + d0[\"poly\"]\n",
    "\n",
    "\n",
    "# G2sdpoly = {\"p\":p, \"L1\": G1sdpoly[\"L1\"] +  G1sdpoly[\"L2\"], \"phi\":phipoly}\n",
    "# G2sdpoly[\"L2\"] = Lpoly - (G1sdpoly[\"L1\"] + G1sdpoly[\"L2\"])\n",
    "\n",
    "\n",
    "simapts = {\"G1\":RectGrating2D(G1sd),\"G2\":RectGrating2D(G2sd)}\n",
    "siminit = {\"lam\":lam, \"plam\": plam, \"L\":L,\"d\":G1sd[\"L2\"],\"mt\":mt, \"x\": np.linspace(-camsize/2,camsize/2,int(camsize/xbin)+1),\\\n",
    "               \"y\": np.linspace(-camsize/2,camsize/2,int(camsize/ybin)+1),\"x0\" : x0,\"xbin\":xbin,\"ybin\":ybin,\"pos\":np.array([[0],[0],[1]]),\\\n",
    "               \"camsize\" : camsize,\"convmode\" : \"valid\", \"slitx\": slitx, \"slity\" : slity,\"res\": res, \"batches\" : 200}\n",
    "\n",
    "# simaptspoly = {\"G1\":RectGrating(G1sdpoly),\"G2\":RectGrating(G2sdpoly)}\n",
    "# siminitpoly = {\"lam\":lampoly, \"plam\": plampoly, \"L\":Lpoly,\"d\":G1sdpoly[\"L2\"],\"mt\":mt, \"x\": np.linspace(0,camsize,int(camsize/xbin)),\"x0\" : x0,\"xbin\":xbin,\"ybin\":ybin,\\\n",
    "#            \"pos\":np.array([[0],[1]]) ,\"camsize\" : camsize ,\"convmode\" : \"valid\", \"slitx\": slitxpoly, \"slity\" : slity, \"res\": respoly, \"batches\" : 2000}\n",
    "\n",
    "\n"
   ]
  },
  {
   "cell_type": "code",
   "execution_count": null,
   "id": "d80daa1e-7919-4901-9396-15c44638b29c",
   "metadata": {},
   "outputs": [],
   "source": [
    "t0 = time()\n",
    "\n",
    "sim2d = PGMI(simapts, siminit)\n",
    "sim2d.propagate_to(\"G1\")\n",
    "sim2d.propagate_to(\"G2\")\n",
    "sim2d.generate_after(\"G2\")\n",
    "\n",
    "print(time() - t0, \"seconds\")\n"
   ]
  },
  {
   "cell_type": "code",
   "execution_count": null,
   "id": "8dd77524-503b-4ac9-8a7d-83da8383ff90",
   "metadata": {},
   "outputs": [],
   "source": [
    "fig, ax = plt.subplots(figsize = (8,8))\n",
    "c = ax.imshow(sim2d.intensity[1])\n",
    "# c = ax.imshow(np.load(\"intens2d5ord.npy\")[-3], origin = \"lower\")\n",
    "fig.colorbar(c)\n",
    "# fig.savefig(r\"2dintens/test\")\n",
    "plt.show()\n",
    "# fig.savefig(\"2dintensityvisual.png\")\n",
    "plt.close(fig)"
   ]
  },
  {
   "cell_type": "code",
   "execution_count": null,
   "id": "7fd001e0-ea6a-443b-ba97-c640ae073575",
   "metadata": {},
   "outputs": [],
   "source": [
    "\n",
    "for i in range (sim2d.intensity.shape[0]):\n",
    "    fig, ax = plt.subplots(figsize = (10,8))\n",
    "\n",
    "    c = ax.imshow(sim2d.intensity[i], origin = \"lower\", aspect = \"auto\", extent = np.array([siminit[\"x\"][0], siminit[\"x\"][-1],siminit[\"y\"][0], siminit[\"y\"][-1]])*1e3)\n",
    "    fig.colorbar(c)\n",
    "    # fig.savefig(r\"2dintens/d = %.f mm\" % (sim2d.d[i]*1e3))\n",
    "    # plt.xlim(750,1250)\n",
    "    # plt.ylim(750,1250)\n",
    "    \n",
    "    plt.show()\n",
    "    plt.close(fig)"
   ]
  },
  {
   "cell_type": "code",
   "execution_count": null,
   "id": "04adef07-556e-49d6-bcc4-13086ce1e70d",
   "metadata": {},
   "outputs": [],
   "source": [
    "ft2d = np.abs(fft2(sim2d.intensity[-1]))\n",
    "# ft2d = ft2d[ft2d > 0.5]\n",
    "# print(ft2d.shape[0]**0.5)\n",
    "plt.colorbar(plt.imshow(ft2d, clim = (0,1e3)))\n",
    "\n",
    "\n",
    "plt.show()"
   ]
  }
 ],
 "metadata": {
  "kernelspec": {
   "display_name": "Python 3 (ipykernel)",
   "language": "python",
   "name": "python3"
  },
  "language_info": {
   "codemirror_mode": {
    "name": "ipython",
    "version": 3
   },
   "file_extension": ".py",
   "mimetype": "text/x-python",
   "name": "python",
   "nbconvert_exporter": "python",
   "pygments_lexer": "ipython3",
   "version": "3.10.9"
  }
 },
 "nbformat": 4,
 "nbformat_minor": 5
}
